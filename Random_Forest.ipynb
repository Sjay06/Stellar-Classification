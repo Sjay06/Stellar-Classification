{
  "nbformat": 4,
  "nbformat_minor": 0,
  "metadata": {
    "colab": {
      "provenance": []
    },
    "kernelspec": {
      "name": "python3",
      "display_name": "Python 3"
    },
    "language_info": {
      "name": "python"
    }
  },
  "cells": [
    {
      "cell_type": "code",
      "execution_count": 5,
      "metadata": {
        "colab": {
          "base_uri": "https://localhost:8080/"
        },
        "id": "FZa-U6JT1Ac2",
        "outputId": "7b0ceaf1-edf2-4f8b-ae01-f1e16080c260"
      },
      "outputs": [
        {
          "output_type": "stream",
          "name": "stdout",
          "text": [
            "Accuracy of Spectral Class prediction: 100.00%\n",
            "Accuracy of Type prediction: 100.00%\n",
            "Enter temperature: 1831\n",
            "Enter L: 0.03118\n",
            "Enter R: 0.31\n",
            "Enter A_M: 18.31\n",
            "Enter Color: Blue\n",
            "Predicted Spectral Class: M\n",
            "Predicted Type: 2\n"
          ]
        }
      ],
      "source": [
        " # Import necessary libraries\n",
        "import pandas as pd\n",
        "from sklearn.ensemble import RandomForestClassifier\n",
        "from sklearn.preprocessing import LabelEncoder\n",
        "from sklearn.metrics import accuracy_score\n",
        "\n",
        "# Load the dataset (replace with your data path)\n",
        "data = pd.read_csv(\"/content/Stars1.csv\")\n",
        "\n",
        "# Separate features and target variables with informative names\n",
        "features = data.drop(columns=['Spectral_Class', 'Type'])\n",
        "target_spectral_class = data['Spectral_Class']  # Target variable for Spectral_Class prediction\n",
        "target_type = data['Type']  # Target variable for Type prediction\n",
        "\n",
        "# Perform one-hot encoding on the 'Color' column\n",
        "encoded_data = pd.get_dummies(features['Color'])\n",
        "\n",
        "# Concatenate the original DataFrame (features) with the encoded columns\n",
        "result = pd.concat([features, encoded_data], axis=1)\n",
        "\n",
        "# Drop the original 'Color' column\n",
        "result.drop('Color', axis=1, inplace=True)\n",
        "\n",
        "# Encode the target variable 'Type' using LabelEncoder\n",
        "label_encoder_type = LabelEncoder()\n",
        "target_type_encoded = label_encoder_type.fit_transform(target_type)\n",
        "\n",
        "# Initialize and fit the random forest classifiers (one for Spectral_Class and another for Type)\n",
        "rf_classifier_spectral = RandomForestClassifier()\n",
        "rf_classifier_spectral.fit(result, target_spectral_class)\n",
        "rf_classifier_type = RandomForestClassifier()\n",
        "rf_classifier_type.fit(result, target_type_encoded)\n",
        "\n",
        "# Calculate accuracy of the models\n",
        "accuracy_spectral_class = accuracy_score(target_spectral_class, rf_classifier_spectral.predict(result))\n",
        "accuracy_type = accuracy_score(target_type_encoded, rf_classifier_type.predict(result))\n",
        "\n",
        "# Print the accuracies in terms of percentile\n",
        "print(\"Accuracy of Spectral Class prediction: {:.2f}%\".format(accuracy_spectral_class * 100))\n",
        "print(\"Accuracy of Type prediction: {:.2f}%\".format(accuracy_type * 100))\n",
        "\n",
        "# Prompt the user for input\n",
        "temperature = float(input(\"Enter temperature: \"))\n",
        "l = float(input(\"Enter L: \"))\n",
        "r = float(input(\"Enter R: \"))\n",
        "a_m = float(input(\"Enter A_M: \"))\n",
        "color = input(\"Enter Color: \")\n",
        "\n",
        "# Create a DataFrame with the user input\n",
        "new_data = pd.DataFrame([[temperature, l, r, a_m, color]], columns=['Temperature', 'L', 'R', 'A_M', 'Color'])\n",
        "\n",
        "# Perform one-hot encoding on the 'Color' column if needed\n",
        "new_encoded_data = pd.get_dummies(new_data['Color'])\n",
        "\n",
        "# Concatenate the original DataFrame (new_data) with the encoded columns\n",
        "new_result = pd.concat([new_data, new_encoded_data], axis=1)\n",
        "\n",
        "# Drop the original 'Color' column if needed\n",
        "new_result.drop('Color', axis=1, inplace=True)\n",
        "\n",
        "# Ensure all the required columns are present in the new_result DataFrame\n",
        "# Add any missing columns with all zero values\n",
        "missing_cols = set(result.columns) - set(new_result.columns)\n",
        "for col in missing_cols:\n",
        "    new_result[col] = 0\n",
        "\n",
        "# Reorder the columns to match the order used during training\n",
        "new_result = new_result[result.columns]\n",
        "\n",
        "# Make predictions for Spectral_Class and Type separately\n",
        "predicted_spectral_class = rf_classifier_spectral.predict(new_result)[0]\n",
        "predicted_type_encoded = rf_classifier_type.predict(new_result)[0]\n",
        "\n",
        "# Inverse transform the predicted Type back to original labels\n",
        "predicted_type = label_encoder_type.inverse_transform([predicted_type_encoded])[0]\n",
        "\n",
        "# Print the predicted Spectral Class and Type\n",
        "print(\"Predicted Spectral Class:\", predicted_spectral_class)\n",
        "print(\"Predicted Type:\", predicted_type)\n",
        "\n"
      ]
    }
  ]
}